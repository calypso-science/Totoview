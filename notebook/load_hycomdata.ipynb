{
 "cells": [
  {
   "cell_type": "code",
   "execution_count": 1,
   "metadata": {},
   "outputs": [
    {
     "name": "stderr",
     "output_type": "stream",
     "text": [
      "/usr/local/lib/python3.8/dist-packages/wafo-0.4.0-py3.8-linux-x86_64.egg/wafo/kdetools/demo.py:14: UserWarning: fig import only supported on Windows\n",
      "  warnings.warn('fig import only supported on Windows')\n"
     ]
    },
    {
     "name": "stdout",
     "output_type": "stream",
     "text": [
      "fig import only supported on Windows\n"
     ]
    },
    {
     "ename": "SystemExit",
     "evalue": "0",
     "output_type": "error",
     "traceback": [
      "An exception has occurred, use %tb to see the full traceback.\n",
      "\u001b[0;31mSystemExit\u001b[0m\u001b[0;31m:\u001b[0m 0\n"
     ]
    }
   ],
   "source": [
    "import xarray\n",
    "import totoview \n",
    "url='https://tds.hycom.org/thredds/dodsC/GLBy0.08/latest?time[0:1:100],surf_el[0:1:100][2000][3000]'\n",
    "xar=xarray.open_dataset(url)\n",
    "df=xar.to_dataframe()\n",
    "df.reset_index(inplace=True)\n",
    "df.set_index('time',inplace=True,drop=False)\n",
    "del df['lon']\n",
    "del df ['lat']\n",
    "\n",
    "totoview.show(dataframe=[df])"
   ]
  },
  {
   "cell_type": "code",
   "execution_count": null,
   "metadata": {},
   "outputs": [],
   "source": []
  }
 ],
 "metadata": {
  "kernelspec": {
   "display_name": "Python 3",
   "language": "python",
   "name": "python3"
  },
  "language_info": {
   "codemirror_mode": {
    "name": "ipython",
    "version": 3
   },
   "file_extension": ".py",
   "mimetype": "text/x-python",
   "name": "python",
   "nbconvert_exporter": "python",
   "pygments_lexer": "ipython3",
   "version": "3.8.10"
  }
 },
 "nbformat": 4,
 "nbformat_minor": 4
}
